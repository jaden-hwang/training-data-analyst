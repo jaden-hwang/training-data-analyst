{
 "cells": [
  {
   "cell_type": "markdown",
   "metadata": {},
   "source": [
    "## Translation using tensor2tensor on Cloud ML Engine\n",
    "\n",
    "This notebook illustrates using the <a href=\"https://github.com/tensorflow/tensor2tensor\">tensor2tensor</a> library to do from-scratch, distributed training of a English-German translator. Then, the trained model is deployed to Cloud ML Engine and used to translate new pieces of text.\n",
    "<p/>\n",
    "### Install tensor2tensor, and specify Google Cloud Platform project and bucket"
   ]
  },
  {
   "cell_type": "code",
   "execution_count": null,
   "metadata": {
    "collapsed": false
   },
   "outputs": [],
   "source": [
    "%bash\n",
    "pip install --upgrade tensorflow\n",
    "pip install tensor2tensor"
   ]
  },
  {
   "cell_type": "code",
   "execution_count": 2,
   "metadata": {
    "collapsed": true
   },
   "outputs": [],
   "source": [
    "import os\n",
    "PROJECT = 'cloud-training-demos' # REPLACE WITH YOUR PROJECT ID\n",
    "BUCKET = 'cloud-training-demos-ml' # REPLACE WITH YOUR BUCKET NAME\n",
    "REGION = 'us-central1' # REPLACE WITH YOUR BUCKET REGION e.g. us-central1\n",
    "\n",
    "\n",
    "# this is what this notebook is demonstrating\n",
    "PROBLEM= 'my_translate_problem'\n",
    "\n",
    "# for bash\n",
    "os.environ['PROJECT'] = PROJECT\n",
    "os.environ['BUCKET'] = BUCKET\n",
    "os.environ['REGION'] = REGION\n",
    "os.environ['PROBLEM'] = PROBLEM"
   ]
  },
  {
   "cell_type": "markdown",
   "metadata": {},
   "source": [
    "### Download data\n"
   ]
  },
  {
   "cell_type": "code",
   "execution_count": null,
   "metadata": {
    "collapsed": false
   },
   "outputs": [],
   "source": [
    "%bash\n",
    "wget http://data.statmt.org/wmt17/translation-task/training-parallel-nc-v12.tgz\n",
    "wget http://data.statmt.org/wmt17/translation-task/dev.tgz"
   ]
  },
  {
   "cell_type": "markdown",
   "metadata": {},
   "source": [
    "### Set up problem\n",
    "The Problem in tensor2tensor is where you specify parameters like the size of your vocabulary and where to get the training data from."
   ]
  },
  {
   "cell_type": "code",
   "execution_count": null,
   "metadata": {
    "collapsed": false
   },
   "outputs": [],
   "source": [
    "%bash\n",
    "rm -rf ende\n",
    "mkdir ende"
   ]
  },
  {
   "cell_type": "code",
   "execution_count": null,
   "metadata": {
    "collapsed": false
   },
   "outputs": [],
   "source": [
    "!pwd"
   ]
  },
  {
   "cell_type": "code",
   "execution_count": null,
   "metadata": {
    "collapsed": false
   },
   "outputs": [],
   "source": [
    "%writefile ende/problem.py\n",
    "import tensorflow as tf\n",
    "from tensor2tensor.data_generators import generator_utils\n",
    "from tensor2tensor.data_generators import problem\n",
    "from tensor2tensor.data_generators import text_encoder\n",
    "from tensor2tensor.data_generators import wsj_parsing\n",
    "import tensor2tensor.data_generators.wmt as wmt\n",
    "from tensor2tensor.utils import registry\n",
    "\n",
    "#TOPDIR=\"gs://{}/translate_ende/\".format(\"BUCKET_NAME\")\n",
    "TOPDIR=\"file:///content/training-data-analyst/blogs/t2t\"  # Make sure this matches the !pwd above\n",
    "\n",
    "_ENDE_TRAIN_DATASETS = [\n",
    "    [\n",
    "        \"{}/training-parallel-nc-v12.tgz\".format(TOPDIR),\n",
    "        (\"training/news-commentary-v12.de-en.en\",\n",
    "         \"training/news-commentary-v12.de-en.de\")\n",
    "    ],\n",
    "]\n",
    "_ENDE_TEST_DATASETS = [\n",
    "    [\n",
    "        \"{}/dev.tgz\".format(TOPDIR),\n",
    "        (\"dev/newstest2013.en\", \"dev/newstest2013.de\")\n",
    "    ],\n",
    "]\n",
    "\n",
    "@registry.register_problem\n",
    "class MyTranslateProblem(wmt.TranslateProblem):\n",
    "  @property\n",
    "  def targeted_vocab_size(self):\n",
    "    return 2**13  # 8192\n",
    "\n",
    "  def generator(self, data_dir, tmp_dir, train):\n",
    "    symbolizer_vocab = generator_utils.get_or_generate_vocab(\n",
    "        data_dir, tmp_dir, self.vocab_file, self.targeted_vocab_size, sources=_ENDE_TRAIN_DATASETS)\n",
    "    datasets = _ENDE_TRAIN_DATASETS if train else _ENDE_TEST_DATASETS\n",
    "    tag = \"train\" if train else \"dev\"\n",
    "    data_path = wmt._compile_data(tmp_dir, datasets, \"wmt_ende_tok_%s\" % tag)\n",
    "    return wmt.token_generator(data_path + \".lang1\", data_path + \".lang2\",\n",
    "                           symbolizer_vocab, text_encoder.EOS_ID)\n",
    "\n",
    "  @property\n",
    "  def input_space_id(self):\n",
    "    return problem.SpaceID.EN_TOK\n",
    "\n",
    "  @property\n",
    "  def target_space_id(self):\n",
    "    return problem.SpaceID.DE_TOK"
   ]
  },
  {
   "cell_type": "code",
   "execution_count": null,
   "metadata": {
    "collapsed": false
   },
   "outputs": [],
   "source": [
    "%%writefile ende/__init__.py\n",
    "from . import problem"
   ]
  },
  {
   "cell_type": "code",
   "execution_count": 59,
   "metadata": {
    "collapsed": false
   },
   "outputs": [
    {
     "name": "stdout",
     "output_type": "stream",
     "text": [
      "Writing ende/setup.py\n"
     ]
    }
   ],
   "source": [
    "%%writefile ende/setup.py\n",
    "from setuptools import find_packages\n",
    "from setuptools import setup\n",
    "\n",
    "REQUIRED_PACKAGES = [\n",
    "]\n",
    "\n",
    "setup(\n",
    "    name='ende',\n",
    "    version='0.1',\n",
    "    author = 'Google',\n",
    "    author_email = 'training-feedback@cloud.google.com',\n",
    "    install_requires=REQUIRED_PACKAGES,\n",
    "    packages=find_packages(),\n",
    "    include_package_data=True,\n",
    "    description='My Translate Problem',\n",
    "    requires=[]\n",
    ")"
   ]
  },
  {
   "cell_type": "markdown",
   "metadata": {},
   "source": [
    "## Generate training data \n",
    "\n",
    "Our problem (translation) requires the creation of text sequences from the training dataset.  This is done using t2t-datagen and the Problem defined in the previous section. "
   ]
  },
  {
   "cell_type": "code",
   "execution_count": null,
   "metadata": {
    "collapsed": false
   },
   "outputs": [],
   "source": [
    "%bash\n",
    "DATA_DIR=./t2t_data\n",
    "TMP_DIR=$DATA_DIR/tmp\n",
    "rm -rf $DATA_DIR $TMP_DIR\n",
    "mkdir -p $DATA_DIR $TMP_DIR\n",
    "# Generate data\n",
    "t2t-datagen \\\n",
    "  --t2t_usr_dir=./ende \\\n",
    "  --problem=$PROBLEM \\\n",
    "  --data_dir=$DATA_DIR \\\n",
    "  --tmp_dir=$TMP_DIR"
   ]
  },
  {
   "cell_type": "markdown",
   "metadata": {},
   "source": [
    "## Provide Cloud ML Engine access to data\n",
    "\n",
    "Copy the data to Google Cloud Storage, and then provide access to the data"
   ]
  },
  {
   "cell_type": "code",
   "execution_count": null,
   "metadata": {
    "collapsed": false
   },
   "outputs": [],
   "source": [
    "%bash\n",
    "DATA_DIR=./t2t_data\n",
    "gsutil -m rm -r gs://${BUCKET}/translate_ende/\n",
    "gsutil -m cp ${DATA_DIR}/${PROBLEM}* ${DATA_DIR}/vocab* gs://${BUCKET}/translate_ende/data"
   ]
  },
  {
   "cell_type": "code",
   "execution_count": null,
   "metadata": {
    "collapsed": false
   },
   "outputs": [],
   "source": [
    "%bash\n",
    "PROJECT_ID=$PROJECT\n",
    "AUTH_TOKEN=$(gcloud auth print-access-token)\n",
    "SVC_ACCOUNT=$(curl -X GET -H \"Content-Type: application/json\" \\\n",
    "    -H \"Authorization: Bearer $AUTH_TOKEN\" \\\n",
    "    https://ml.googleapis.com/v1/projects/${PROJECT_ID}:getConfig \\\n",
    "    | python -c \"import json; import sys; response = json.load(sys.stdin); \\\n",
    "    print response['serviceAccount']\")\n",
    "\n",
    "echo \"Authorizing the Cloud ML Service account $SVC_ACCOUNT to access files in $BUCKET\"\n",
    "gsutil -m defacl ch -u $SVC_ACCOUNT:R gs://$BUCKET\n",
    "gsutil -m acl ch -u $SVC_ACCOUNT:R -r gs://$BUCKET  # error message (if bucket is empty) can be ignored\n",
    "gsutil -m acl ch -u $SVC_ACCOUNT:W gs://$BUCKET"
   ]
  },
  {
   "cell_type": "markdown",
   "metadata": {},
   "source": [
    "## Train model as a Python package\n",
    "\n",
    "To submit the training job to Cloud Machine Learning Engine, we need a Python module with a main(). We'll use the t2t-trainer that is distributed with tensor2tensor as the main"
   ]
  },
  {
   "cell_type": "code",
   "execution_count": null,
   "metadata": {
    "collapsed": false
   },
   "outputs": [],
   "source": [
    "%bash\n",
    "wget https://raw.githubusercontent.com/tensorflow/tensor2tensor/4ffae909f97c05e9dcef4bedf7f403bb62fde7b8/tensor2tensor/bin/t2t-trainer\n",
    "mv t2t-trainer ende/t2t-trainer.py"
   ]
  },
  {
   "cell_type": "code",
   "execution_count": 62,
   "metadata": {
    "collapsed": false
   },
   "outputs": [
    {
     "name": "stdout",
     "output_type": "stream",
     "text": [
      "__init__.py  __init__.pyc  problem.py  problem.pyc  setup.py  t2t-trainer.py\r\n"
     ]
    }
   ],
   "source": [
    "!ls ende"
   ]
  },
  {
   "cell_type": "markdown",
   "metadata": {},
   "source": [
    "Let's test that the Python package works. Since we are running this locally, I'll try it out on a subset of the original data"
   ]
  },
  {
   "cell_type": "code",
   "execution_count": null,
   "metadata": {
    "collapsed": false
   },
   "outputs": [],
   "source": [
    "%bash\n",
    "BASE=gs://${BUCKET}/translate_ende/data\n",
    "OUTDIR=gs://${BUCKET}/translate_ende/subset\n",
    "gsutil -m rm -r $OUTDIR\n",
    "gsutil -m cp \\\n",
    "    ${BASE}/${PROBLEM}-train-0008* \\\n",
    "    ${BASE}/${PROBLEM}-dev-00000*  \\\n",
    "    ${BASE}/vocab* \\\n",
    "    $OUTDIR"
   ]
  },
  {
   "cell_type": "code",
   "execution_count": 3,
   "metadata": {
    "collapsed": false
   },
   "outputs": [
    {
     "name": "stderr",
     "output_type": "stream",
     "text": [
      "WARNING:tensorflow:uid (from tensorflow.contrib.learn.python.learn.estimators.run_config) is experimental and may change or be removed at any time, and without warning.\n",
      "INFO:tensorflow:Creating experiment, storing model files in ./trained_model\n",
      "INFO:tensorflow:datashard_devices: ['gpu:0']\n",
      "INFO:tensorflow:caching_devices: None\n",
      "INFO:tensorflow:Using config: {'_model_dir': './trained_model', '_save_checkpoints_secs': 600, '_num_ps_replicas': 0, '_keep_checkpoint_max': 20, '_session_config': gpu_options {\n",
      "  per_process_gpu_memory_fraction: 0.95\n",
      "}\n",
      "allow_soft_placement: true\n",
      "graph_options {\n",
      "  optimizer_options {\n",
      "  }\n",
      "}\n",
      ", '_tf_random_seed': None, '_task_type': None, '_environment': 'local', '_is_chief': True, '_cluster_spec': <tensorflow.python.training.server_lib.ClusterSpec object at 0x7f68cda43f50>, '_tf_config': gpu_options {\n",
      "  per_process_gpu_memory_fraction: 0.95\n",
      "}\n",
      ", '_num_worker_replicas': 0, '_task_id': 0, '_save_summary_steps': 100, '_save_checkpoints_steps': None, '_evaluation_master': '', '_keep_checkpoint_every_n_hours': 10000, '_master': '', '_log_step_count_steps': 100}\n",
      "WARNING:tensorflow:uid (from tensorflow.contrib.learn.python.learn.estimators.run_config) is experimental and may change or be removed at any time, and without warning.\n",
      "WARNING:tensorflow:From /usr/local/lib/python2.7/dist-packages/tensorflow/contrib/learn/python/learn/monitors.py:269: __init__ (from tensorflow.contrib.learn.python.learn.monitors) is deprecated and will be removed after 2016-12-05.\n",
      "Instructions for updating:\n",
      "Monitors are deprecated. Please use tf.train.SessionRunHook.\n",
      "INFO:tensorflow:batching_scheme = {'boundaries': [8, 9, 10, 11, 12, 13, 14, 15, 16, 17, 18, 19, 20, 22, 24, 26, 28, 30, 33, 36, 39, 42, 46, 50, 55, 60, 66, 72, 79, 86, 94, 103, 113, 124, 136, 149, 163, 179, 196, 215, 236], 'window_size': 720, 'max_length': 256, 'batch_sizes': [240, 180, 180, 180, 144, 144, 144, 120, 120, 120, 90, 90, 90, 90, 80, 72, 72, 60, 60, 48, 48, 48, 40, 40, 36, 30, 30, 24, 24, 20, 20, 18, 18, 16, 15, 12, 12, 10, 10, 9, 8, 8], 'shuffle_queue_size': 270}\n",
      "INFO:tensorflow:datashard_devices: ['gpu:0']\n",
      "INFO:tensorflow:caching_devices: None\n",
      "INFO:tensorflow:Doing model_fn_body took 5.479 sec.\n",
      "INFO:tensorflow:This model_fn took 5.930 sec.\n",
      "INFO:tensorflow:Weight    body/decoder/layer_0/encdec_attention/layer_postprocess/layer_norm/layer_norm_bias\tshape    (512,)              \tsize    512\n",
      "INFO:tensorflow:Weight    body/decoder/layer_0/encdec_attention/layer_postprocess/layer_norm/layer_norm_scale\tshape    (512,)              \tsize    512\n",
      "INFO:tensorflow:Weight    body/decoder/layer_0/encdec_attention/multihead_attention/kv_transform_single/bias\tshape    (1024,)             \tsize    1024\n",
      "INFO:tensorflow:Weight    body/decoder/layer_0/encdec_attention/multihead_attention/kv_transform_single/kernel\tshape    (1, 1, 512, 1024)   \tsize    524288\n",
      "INFO:tensorflow:Weight    body/decoder/layer_0/encdec_attention/multihead_attention/output_transform_single/bias\tshape    (512,)              \tsize    512\n",
      "INFO:tensorflow:Weight    body/decoder/layer_0/encdec_attention/multihead_attention/output_transform_single/kernel\tshape    (1, 1, 512, 512)    \tsize    262144\n",
      "INFO:tensorflow:Weight    body/decoder/layer_0/encdec_attention/multihead_attention/q_transform_single/bias\tshape    (512,)              \tsize    512\n",
      "INFO:tensorflow:Weight    body/decoder/layer_0/encdec_attention/multihead_attention/q_transform_single/kernel\tshape    (1, 1, 512, 512)    \tsize    262144\n",
      "INFO:tensorflow:Weight    body/decoder/layer_0/ffn/conv_hidden_relu/conv1_single/bias                     \tshape    (2048,)             \tsize    2048\n",
      "INFO:tensorflow:Weight    body/decoder/layer_0/ffn/conv_hidden_relu/conv1_single/kernel                   \tshape    (1, 1, 512, 2048)   \tsize    1048576\n",
      "INFO:tensorflow:Weight    body/decoder/layer_0/ffn/conv_hidden_relu/conv2_single/bias                     \tshape    (512,)              \tsize    512\n",
      "INFO:tensorflow:Weight    body/decoder/layer_0/ffn/conv_hidden_relu/conv2_single/kernel                   \tshape    (1, 1, 2048, 512)   \tsize    1048576\n",
      "INFO:tensorflow:Weight    body/decoder/layer_0/ffn/layer_postprocess/layer_norm/layer_norm_bias           \tshape    (512,)              \tsize    512\n",
      "INFO:tensorflow:Weight    body/decoder/layer_0/ffn/layer_postprocess/layer_norm/layer_norm_scale          \tshape    (512,)              \tsize    512\n",
      "INFO:tensorflow:Weight    body/decoder/layer_0/self_attention/layer_postprocess/layer_norm/layer_norm_bias\tshape    (512,)              \tsize    512\n",
      "INFO:tensorflow:Weight    body/decoder/layer_0/self_attention/layer_postprocess/layer_norm/layer_norm_scale\tshape    (512,)              \tsize    512\n",
      "INFO:tensorflow:Weight    body/decoder/layer_0/self_attention/multihead_attention/output_transform_single/bias\tshape    (512,)              \tsize    512\n",
      "INFO:tensorflow:Weight    body/decoder/layer_0/self_attention/multihead_attention/output_transform_single/kernel\tshape    (1, 1, 512, 512)    \tsize    262144\n",
      "INFO:tensorflow:Weight    body/decoder/layer_0/self_attention/multihead_attention/qkv_transform_single/bias\tshape    (1536,)             \tsize    1536\n",
      "INFO:tensorflow:Weight    body/decoder/layer_0/self_attention/multihead_attention/qkv_transform_single/kernel\tshape    (1, 1, 512, 1536)   \tsize    786432\n",
      "INFO:tensorflow:Weight    body/decoder/layer_1/encdec_attention/layer_postprocess/layer_norm/layer_norm_bias\tshape    (512,)              \tsize    512\n",
      "INFO:tensorflow:Weight    body/decoder/layer_1/encdec_attention/layer_postprocess/layer_norm/layer_norm_scale\tshape    (512,)              \tsize    512\n",
      "INFO:tensorflow:Weight    body/decoder/layer_1/encdec_attention/multihead_attention/kv_transform_single/bias\tshape    (1024,)             \tsize    1024\n",
      "INFO:tensorflow:Weight    body/decoder/layer_1/encdec_attention/multihead_attention/kv_transform_single/kernel\tshape    (1, 1, 512, 1024)   \tsize    524288\n",
      "INFO:tensorflow:Weight    body/decoder/layer_1/encdec_attention/multihead_attention/output_transform_single/bias\tshape    (512,)              \tsize    512\n",
      "INFO:tensorflow:Weight    body/decoder/layer_1/encdec_attention/multihead_attention/output_transform_single/kernel\tshape    (1, 1, 512, 512)    \tsize    262144\n",
      "INFO:tensorflow:Weight    body/decoder/layer_1/encdec_attention/multihead_attention/q_transform_single/bias\tshape    (512,)              \tsize    512\n",
      "INFO:tensorflow:Weight    body/decoder/layer_1/encdec_attention/multihead_attention/q_transform_single/kernel\tshape    (1, 1, 512, 512)    \tsize    262144\n",
      "INFO:tensorflow:Weight    body/decoder/layer_1/ffn/conv_hidden_relu/conv1_single/bias                     \tshape    (2048,)             \tsize    2048\n",
      "INFO:tensorflow:Weight    body/decoder/layer_1/ffn/conv_hidden_relu/conv1_single/kernel                   \tshape    (1, 1, 512, 2048)   \tsize    1048576\n",
      "INFO:tensorflow:Weight    body/decoder/layer_1/ffn/conv_hidden_relu/conv2_single/bias                     \tshape    (512,)              \tsize    512\n",
      "INFO:tensorflow:Weight    body/decoder/layer_1/ffn/conv_hidden_relu/conv2_single/kernel                   \tshape    (1, 1, 2048, 512)   \tsize    1048576\n",
      "INFO:tensorflow:Weight    body/decoder/layer_1/ffn/layer_postprocess/layer_norm/layer_norm_bias           \tshape    (512,)              \tsize    512\n",
      "INFO:tensorflow:Weight    body/decoder/layer_1/ffn/layer_postprocess/layer_norm/layer_norm_scale          \tshape    (512,)              \tsize    512\n",
      "INFO:tensorflow:Weight    body/decoder/layer_1/self_attention/layer_postprocess/layer_norm/layer_norm_bias\tshape    (512,)              \tsize    512\n",
      "INFO:tensorflow:Weight    body/decoder/layer_1/self_attention/layer_postprocess/layer_norm/layer_norm_scale\tshape    (512,)              \tsize    512\n",
      "INFO:tensorflow:Weight    body/decoder/layer_1/self_attention/multihead_attention/output_transform_single/bias\tshape    (512,)              \tsize    512\n",
      "INFO:tensorflow:Weight    body/decoder/layer_1/self_attention/multihead_attention/output_transform_single/kernel\tshape    (1, 1, 512, 512)    \tsize    262144\n",
      "INFO:tensorflow:Weight    body/decoder/layer_1/self_attention/multihead_attention/qkv_transform_single/bias\tshape    (1536,)             \tsize    1536\n",
      "INFO:tensorflow:Weight    body/decoder/layer_1/self_attention/multihead_attention/qkv_transform_single/kernel\tshape    (1, 1, 512, 1536)   \tsize    786432\n",
      "INFO:tensorflow:Weight    body/decoder/layer_2/encdec_attention/layer_postprocess/layer_norm/layer_norm_bias\tshape    (512,)              \tsize    512\n",
      "INFO:tensorflow:Weight    body/decoder/layer_2/encdec_attention/layer_postprocess/layer_norm/layer_norm_scale\tshape    (512,)              \tsize    512\n",
      "INFO:tensorflow:Weight    body/decoder/layer_2/encdec_attention/multihead_attention/kv_transform_single/bias\tshape    (1024,)             \tsize    1024\n",
      "INFO:tensorflow:Weight    body/decoder/layer_2/encdec_attention/multihead_attention/kv_transform_single/kernel\tshape    (1, 1, 512, 1024)   \tsize    524288\n",
      "INFO:tensorflow:Weight    body/decoder/layer_2/encdec_attention/multihead_attention/output_transform_single/bias\tshape    (512,)              \tsize    512\n",
      "INFO:tensorflow:Weight    body/decoder/layer_2/encdec_attention/multihead_attention/output_transform_single/kernel\tshape    (1, 1, 512, 512)    \tsize    262144\n",
      "INFO:tensorflow:Weight    body/decoder/layer_2/encdec_attention/multihead_attention/q_transform_single/bias\tshape    (512,)              \tsize    512\n",
      "INFO:tensorflow:Weight    body/decoder/layer_2/encdec_attention/multihead_attention/q_transform_single/kernel\tshape    (1, 1, 512, 512)    \tsize    262144\n",
      "INFO:tensorflow:Weight    body/decoder/layer_2/ffn/conv_hidden_relu/conv1_single/bias                     \tshape    (2048,)             \tsize    2048\n",
      "INFO:tensorflow:Weight    body/decoder/layer_2/ffn/conv_hidden_relu/conv1_single/kernel                   \tshape    (1, 1, 512, 2048)   \tsize    1048576\n",
      "INFO:tensorflow:Weight    body/decoder/layer_2/ffn/conv_hidden_relu/conv2_single/bias                     \tshape    (512,)              \tsize    512\n",
      "INFO:tensorflow:Weight    body/decoder/layer_2/ffn/conv_hidden_relu/conv2_single/kernel                   \tshape    (1, 1, 2048, 512)   \tsize    1048576\n",
      "INFO:tensorflow:Weight    body/decoder/layer_2/ffn/layer_postprocess/layer_norm/layer_norm_bias           \tshape    (512,)              \tsize    512\n",
      "INFO:tensorflow:Weight    body/decoder/layer_2/ffn/layer_postprocess/layer_norm/layer_norm_scale          \tshape    (512,)              \tsize    512\n",
      "INFO:tensorflow:Weight    body/decoder/layer_2/self_attention/layer_postprocess/layer_norm/layer_norm_bias\tshape    (512,)              \tsize    512\n",
      "INFO:tensorflow:Weight    body/decoder/layer_2/self_attention/layer_postprocess/layer_norm/layer_norm_scale\tshape    (512,)              \tsize    512\n",
      "INFO:tensorflow:Weight    body/decoder/layer_2/self_attention/multihead_attention/output_transform_single/bias\tshape    (512,)              \tsize    512\n",
      "INFO:tensorflow:Weight    body/decoder/layer_2/self_attention/multihead_attention/output_transform_single/kernel\tshape    (1, 1, 512, 512)    \tsize    262144\n",
      "INFO:tensorflow:Weight    body/decoder/layer_2/self_attention/multihead_attention/qkv_transform_single/bias\tshape    (1536,)             \tsize    1536\n",
      "INFO:tensorflow:Weight    body/decoder/layer_2/self_attention/multihead_attention/qkv_transform_single/kernel\tshape    (1, 1, 512, 1536)   \tsize    786432\n",
      "INFO:tensorflow:Weight    body/decoder/layer_3/encdec_attention/layer_postprocess/layer_norm/layer_norm_bias\tshape    (512,)              \tsize    512\n",
      "INFO:tensorflow:Weight    body/decoder/layer_3/encdec_attention/layer_postprocess/layer_norm/layer_norm_scale\tshape    (512,)              \tsize    512\n",
      "INFO:tensorflow:Weight    body/decoder/layer_3/encdec_attention/multihead_attention/kv_transform_single/bias\tshape    (1024,)             \tsize    1024\n",
      "INFO:tensorflow:Weight    body/decoder/layer_3/encdec_attention/multihead_attention/kv_transform_single/kernel\tshape    (1, 1, 512, 1024)   \tsize    524288\n",
      "INFO:tensorflow:Weight    body/decoder/layer_3/encdec_attention/multihead_attention/output_transform_single/bias\tshape    (512,)              \tsize    512\n",
      "INFO:tensorflow:Weight    body/decoder/layer_3/encdec_attention/multihead_attention/output_transform_single/kernel\tshape    (1, 1, 512, 512)    \tsize    262144\n",
      "INFO:tensorflow:Weight    body/decoder/layer_3/encdec_attention/multihead_attention/q_transform_single/bias\tshape    (512,)              \tsize    512\n",
      "INFO:tensorflow:Weight    body/decoder/layer_3/encdec_attention/multihead_attention/q_transform_single/kernel\tshape    (1, 1, 512, 512)    \tsize    262144\n",
      "INFO:tensorflow:Weight    body/decoder/layer_3/ffn/conv_hidden_relu/conv1_single/bias                     \tshape    (2048,)             \tsize    2048\n",
      "INFO:tensorflow:Weight    body/decoder/layer_3/ffn/conv_hidden_relu/conv1_single/kernel                   \tshape    (1, 1, 512, 2048)   \tsize    1048576\n",
      "INFO:tensorflow:Weight    body/decoder/layer_3/ffn/conv_hidden_relu/conv2_single/bias                     \tshape    (512,)              \tsize    512\n",
      "INFO:tensorflow:Weight    body/decoder/layer_3/ffn/conv_hidden_relu/conv2_single/kernel                   \tshape    (1, 1, 2048, 512)   \tsize    1048576\n",
      "INFO:tensorflow:Weight    body/decoder/layer_3/ffn/layer_postprocess/layer_norm/layer_norm_bias           \tshape    (512,)              \tsize    512\n",
      "INFO:tensorflow:Weight    body/decoder/layer_3/ffn/layer_postprocess/layer_norm/layer_norm_scale          \tshape    (512,)              \tsize    512\n",
      "INFO:tensorflow:Weight    body/decoder/layer_3/self_attention/layer_postprocess/layer_norm/layer_norm_bias\tshape    (512,)              \tsize    512\n",
      "INFO:tensorflow:Weight    body/decoder/layer_3/self_attention/layer_postprocess/layer_norm/layer_norm_scale\tshape    (512,)              \tsize    512\n",
      "INFO:tensorflow:Weight    body/decoder/layer_3/self_attention/multihead_attention/output_transform_single/bias\tshape    (512,)              \tsize    512\n",
      "INFO:tensorflow:Weight    body/decoder/layer_3/self_attention/multihead_attention/output_transform_single/kernel\tshape    (1, 1, 512, 512)    \tsize    262144\n",
      "INFO:tensorflow:Weight    body/decoder/layer_3/self_attention/multihead_attention/qkv_transform_single/bias\tshape    (1536,)             \tsize    1536\n",
      "INFO:tensorflow:Weight    body/decoder/layer_3/self_attention/multihead_attention/qkv_transform_single/kernel\tshape    (1, 1, 512, 1536)   \tsize    786432\n",
      "INFO:tensorflow:Weight    body/decoder/layer_4/encdec_attention/layer_postprocess/layer_norm/layer_norm_bias\tshape    (512,)              \tsize    512\n",
      "INFO:tensorflow:Weight    body/decoder/layer_4/encdec_attention/layer_postprocess/layer_norm/layer_norm_scale\tshape    (512,)              \tsize    512\n",
      "INFO:tensorflow:Weight    body/decoder/layer_4/encdec_attention/multihead_attention/kv_transform_single/bias\tshape    (1024,)             \tsize    1024\n",
      "INFO:tensorflow:Weight    body/decoder/layer_4/encdec_attention/multihead_attention/kv_transform_single/kernel\tshape    (1, 1, 512, 1024)   \tsize    524288\n",
      "INFO:tensorflow:Weight    body/decoder/layer_4/encdec_attention/multihead_attention/output_transform_single/bias\tshape    (512,)              \tsize    512\n",
      "INFO:tensorflow:Weight    body/decoder/layer_4/encdec_attention/multihead_attention/output_transform_single/kernel\tshape    (1, 1, 512, 512)    \tsize    262144\n",
      "INFO:tensorflow:Weight    body/decoder/layer_4/encdec_attention/multihead_attention/q_transform_single/bias\tshape    (512,)              \tsize    512\n",
      "INFO:tensorflow:Weight    body/decoder/layer_4/encdec_attention/multihead_attention/q_transform_single/kernel\tshape    (1, 1, 512, 512)    \tsize    262144\n",
      "INFO:tensorflow:Weight    body/decoder/layer_4/ffn/conv_hidden_relu/conv1_single/bias                     \tshape    (2048,)             \tsize    2048\n",
      "INFO:tensorflow:Weight    body/decoder/layer_4/ffn/conv_hidden_relu/conv1_single/kernel                   \tshape    (1, 1, 512, 2048)   \tsize    1048576\n",
      "INFO:tensorflow:Weight    body/decoder/layer_4/ffn/conv_hidden_relu/conv2_single/bias                     \tshape    (512,)              \tsize    512\n",
      "INFO:tensorflow:Weight    body/decoder/layer_4/ffn/conv_hidden_relu/conv2_single/kernel                   \tshape    (1, 1, 2048, 512)   \tsize    1048576\n",
      "INFO:tensorflow:Weight    body/decoder/layer_4/ffn/layer_postprocess/layer_norm/layer_norm_bias           \tshape    (512,)              \tsize    512\n",
      "INFO:tensorflow:Weight    body/decoder/layer_4/ffn/layer_postprocess/layer_norm/layer_norm_scale          \tshape    (512,)              \tsize    512\n",
      "INFO:tensorflow:Weight    body/decoder/layer_4/self_attention/layer_postprocess/layer_norm/layer_norm_bias\tshape    (512,)              \tsize    512\n",
      "INFO:tensorflow:Weight    body/decoder/layer_4/self_attention/layer_postprocess/layer_norm/layer_norm_scale\tshape    (512,)              \tsize    512\n",
      "INFO:tensorflow:Weight    body/decoder/layer_4/self_attention/multihead_attention/output_transform_single/bias\tshape    (512,)              \tsize    512\n",
      "INFO:tensorflow:Weight    body/decoder/layer_4/self_attention/multihead_attention/output_transform_single/kernel\tshape    (1, 1, 512, 512)    \tsize    262144\n",
      "INFO:tensorflow:Weight    body/decoder/layer_4/self_attention/multihead_attention/qkv_transform_single/bias\tshape    (1536,)             \tsize    1536\n",
      "INFO:tensorflow:Weight    body/decoder/layer_4/self_attention/multihead_attention/qkv_transform_single/kernel\tshape    (1, 1, 512, 1536)   \tsize    786432\n",
      "INFO:tensorflow:Weight    body/decoder/layer_5/encdec_attention/layer_postprocess/layer_norm/layer_norm_bias\tshape    (512,)              \tsize    512\n",
      "INFO:tensorflow:Weight    body/decoder/layer_5/encdec_attention/layer_postprocess/layer_norm/layer_norm_scale\tshape    (512,)              \tsize    512\n",
      "INFO:tensorflow:Weight    body/decoder/layer_5/encdec_attention/multihead_attention/kv_transform_single/bias\tshape    (1024,)             \tsize    1024\n",
      "INFO:tensorflow:Weight    body/decoder/layer_5/encdec_attention/multihead_attention/kv_transform_single/kernel\tshape    (1, 1, 512, 1024)   \tsize    524288\n",
      "INFO:tensorflow:Weight    body/decoder/layer_5/encdec_attention/multihead_attention/output_transform_single/bias\tshape    (512,)              \tsize    512\n",
      "INFO:tensorflow:Weight    body/decoder/layer_5/encdec_attention/multihead_attention/output_transform_single/kernel\tshape    (1, 1, 512, 512)    \tsize    262144\n",
      "INFO:tensorflow:Weight    body/decoder/layer_5/encdec_attention/multihead_attention/q_transform_single/bias\tshape    (512,)              \tsize    512\n",
      "INFO:tensorflow:Weight    body/decoder/layer_5/encdec_attention/multihead_attention/q_transform_single/kernel\tshape    (1, 1, 512, 512)    \tsize    262144\n",
      "INFO:tensorflow:Weight    body/decoder/layer_5/ffn/conv_hidden_relu/conv1_single/bias                     \tshape    (2048,)             \tsize    2048\n",
      "INFO:tensorflow:Weight    body/decoder/layer_5/ffn/conv_hidden_relu/conv1_single/kernel                   \tshape    (1, 1, 512, 2048)   \tsize    1048576\n",
      "INFO:tensorflow:Weight    body/decoder/layer_5/ffn/conv_hidden_relu/conv2_single/bias                     \tshape    (512,)              \tsize    512\n",
      "INFO:tensorflow:Weight    body/decoder/layer_5/ffn/conv_hidden_relu/conv2_single/kernel                   \tshape    (1, 1, 2048, 512)   \tsize    1048576\n",
      "INFO:tensorflow:Weight    body/decoder/layer_5/ffn/layer_postprocess/layer_norm/layer_norm_bias           \tshape    (512,)              \tsize    512\n",
      "INFO:tensorflow:Weight    body/decoder/layer_5/ffn/layer_postprocess/layer_norm/layer_norm_scale          \tshape    (512,)              \tsize    512\n",
      "INFO:tensorflow:Weight    body/decoder/layer_5/self_attention/layer_postprocess/layer_norm/layer_norm_bias\tshape    (512,)              \tsize    512\n",
      "INFO:tensorflow:Weight    body/decoder/layer_5/self_attention/layer_postprocess/layer_norm/layer_norm_scale\tshape    (512,)              \tsize    512\n",
      "INFO:tensorflow:Weight    body/decoder/layer_5/self_attention/multihead_attention/output_transform_single/bias\tshape    (512,)              \tsize    512\n",
      "INFO:tensorflow:Weight    body/decoder/layer_5/self_attention/multihead_attention/output_transform_single/kernel\tshape    (1, 1, 512, 512)    \tsize    262144\n",
      "INFO:tensorflow:Weight    body/decoder/layer_5/self_attention/multihead_attention/qkv_transform_single/bias\tshape    (1536,)             \tsize    1536\n",
      "INFO:tensorflow:Weight    body/decoder/layer_5/self_attention/multihead_attention/qkv_transform_single/kernel\tshape    (1, 1, 512, 1536)   \tsize    786432\n",
      "INFO:tensorflow:Weight    body/encoder/layer_0/ffn/conv_hidden_relu/conv1_single/bias                     \tshape    (2048,)             \tsize    2048\n",
      "INFO:tensorflow:Weight    body/encoder/layer_0/ffn/conv_hidden_relu/conv1_single/kernel                   \tshape    (1, 1, 512, 2048)   \tsize    1048576\n",
      "INFO:tensorflow:Weight    body/encoder/layer_0/ffn/conv_hidden_relu/conv2_single/bias                     \tshape    (512,)              \tsize    512\n",
      "INFO:tensorflow:Weight    body/encoder/layer_0/ffn/conv_hidden_relu/conv2_single/kernel                   \tshape    (1, 1, 2048, 512)   \tsize    1048576\n",
      "INFO:tensorflow:Weight    body/encoder/layer_0/ffn/layer_postprocess/layer_norm/layer_norm_bias           \tshape    (512,)              \tsize    512\n",
      "INFO:tensorflow:Weight    body/encoder/layer_0/ffn/layer_postprocess/layer_norm/layer_norm_scale          \tshape    (512,)              \tsize    512\n",
      "INFO:tensorflow:Weight    body/encoder/layer_0/self_attention/layer_postprocess/layer_norm/layer_norm_bias\tshape    (512,)              \tsize    512\n",
      "INFO:tensorflow:Weight    body/encoder/layer_0/self_attention/layer_postprocess/layer_norm/layer_norm_scale\tshape    (512,)              \tsize    512\n",
      "INFO:tensorflow:Weight    body/encoder/layer_0/self_attention/multihead_attention/output_transform_single/bias\tshape    (512,)              \tsize    512\n",
      "INFO:tensorflow:Weight    body/encoder/layer_0/self_attention/multihead_attention/output_transform_single/kernel\tshape    (1, 1, 512, 512)    \tsize    262144\n",
      "INFO:tensorflow:Weight    body/encoder/layer_0/self_attention/multihead_attention/qkv_transform_single/bias\tshape    (1536,)             \tsize    1536\n",
      "INFO:tensorflow:Weight    body/encoder/layer_0/self_attention/multihead_attention/qkv_transform_single/kernel\tshape    (1, 1, 512, 1536)   \tsize    786432\n",
      "INFO:tensorflow:Weight    body/encoder/layer_1/ffn/conv_hidden_relu/conv1_single/bias                     \tshape    (2048,)             \tsize    2048\n",
      "INFO:tensorflow:Weight    body/encoder/layer_1/ffn/conv_hidden_relu/conv1_single/kernel                   \tshape    (1, 1, 512, 2048)   \tsize    1048576\n",
      "INFO:tensorflow:Weight    body/encoder/layer_1/ffn/conv_hidden_relu/conv2_single/bias                     \tshape    (512,)              \tsize    512\n",
      "INFO:tensorflow:Weight    body/encoder/layer_1/ffn/conv_hidden_relu/conv2_single/kernel                   \tshape    (1, 1, 2048, 512)   \tsize    1048576\n",
      "INFO:tensorflow:Weight    body/encoder/layer_1/ffn/layer_postprocess/layer_norm/layer_norm_bias           \tshape    (512,)              \tsize    512\n",
      "INFO:tensorflow:Weight    body/encoder/layer_1/ffn/layer_postprocess/layer_norm/layer_norm_scale          \tshape    (512,)              \tsize    512\n",
      "INFO:tensorflow:Weight    body/encoder/layer_1/self_attention/layer_postprocess/layer_norm/layer_norm_bias\tshape    (512,)              \tsize    512\n",
      "INFO:tensorflow:Weight    body/encoder/layer_1/self_attention/layer_postprocess/layer_norm/layer_norm_scale\tshape    (512,)              \tsize    512\n",
      "INFO:tensorflow:Weight    body/encoder/layer_1/self_attention/multihead_attention/output_transform_single/bias\tshape    (512,)              \tsize    512\n",
      "INFO:tensorflow:Weight    body/encoder/layer_1/self_attention/multihead_attention/output_transform_single/kernel\tshape    (1, 1, 512, 512)    \tsize    262144\n",
      "INFO:tensorflow:Weight    body/encoder/layer_1/self_attention/multihead_attention/qkv_transform_single/bias\tshape    (1536,)             \tsize    1536\n",
      "INFO:tensorflow:Weight    body/encoder/layer_1/self_attention/multihead_attention/qkv_transform_single/kernel\tshape    (1, 1, 512, 1536)   \tsize    786432\n",
      "INFO:tensorflow:Weight    body/encoder/layer_2/ffn/conv_hidden_relu/conv1_single/bias                     \tshape    (2048,)             \tsize    2048\n",
      "INFO:tensorflow:Weight    body/encoder/layer_2/ffn/conv_hidden_relu/conv1_single/kernel                   \tshape    (1, 1, 512, 2048)   \tsize    1048576\n",
      "INFO:tensorflow:Weight    body/encoder/layer_2/ffn/conv_hidden_relu/conv2_single/bias                     \tshape    (512,)              \tsize    512\n",
      "INFO:tensorflow:Weight    body/encoder/layer_2/ffn/conv_hidden_relu/conv2_single/kernel                   \tshape    (1, 1, 2048, 512)   \tsize    1048576\n",
      "INFO:tensorflow:Weight    body/encoder/layer_2/ffn/layer_postprocess/layer_norm/layer_norm_bias           \tshape    (512,)              \tsize    512\n",
      "INFO:tensorflow:Weight    body/encoder/layer_2/ffn/layer_postprocess/layer_norm/layer_norm_scale          \tshape    (512,)              \tsize    512\n",
      "INFO:tensorflow:Weight    body/encoder/layer_2/self_attention/layer_postprocess/layer_norm/layer_norm_bias\tshape    (512,)              \tsize    512\n",
      "INFO:tensorflow:Weight    body/encoder/layer_2/self_attention/layer_postprocess/layer_norm/layer_norm_scale\tshape    (512,)              \tsize    512\n",
      "INFO:tensorflow:Weight    body/encoder/layer_2/self_attention/multihead_attention/output_transform_single/bias\tshape    (512,)              \tsize    512\n",
      "INFO:tensorflow:Weight    body/encoder/layer_2/self_attention/multihead_attention/output_transform_single/kernel\tshape    (1, 1, 512, 512)    \tsize    262144\n",
      "INFO:tensorflow:Weight    body/encoder/layer_2/self_attention/multihead_attention/qkv_transform_single/bias\tshape    (1536,)             \tsize    1536\n",
      "INFO:tensorflow:Weight    body/encoder/layer_2/self_attention/multihead_attention/qkv_transform_single/kernel\tshape    (1, 1, 512, 1536)   \tsize    786432\n",
      "INFO:tensorflow:Weight    body/encoder/layer_3/ffn/conv_hidden_relu/conv1_single/bias                     \tshape    (2048,)             \tsize    2048\n",
      "INFO:tensorflow:Weight    body/encoder/layer_3/ffn/conv_hidden_relu/conv1_single/kernel                   \tshape    (1, 1, 512, 2048)   \tsize    1048576\n",
      "INFO:tensorflow:Weight    body/encoder/layer_3/ffn/conv_hidden_relu/conv2_single/bias                     \tshape    (512,)              \tsize    512\n",
      "INFO:tensorflow:Weight    body/encoder/layer_3/ffn/conv_hidden_relu/conv2_single/kernel                   \tshape    (1, 1, 2048, 512)   \tsize    1048576\n",
      "INFO:tensorflow:Weight    body/encoder/layer_3/ffn/layer_postprocess/layer_norm/layer_norm_bias           \tshape    (512,)              \tsize    512\n",
      "INFO:tensorflow:Weight    body/encoder/layer_3/ffn/layer_postprocess/layer_norm/layer_norm_scale          \tshape    (512,)              \tsize    512\n",
      "INFO:tensorflow:Weight    body/encoder/layer_3/self_attention/layer_postprocess/layer_norm/layer_norm_bias\tshape    (512,)              \tsize    512\n",
      "INFO:tensorflow:Weight    body/encoder/layer_3/self_attention/layer_postprocess/layer_norm/layer_norm_scale\tshape    (512,)              \tsize    512\n",
      "INFO:tensorflow:Weight    body/encoder/layer_3/self_attention/multihead_attention/output_transform_single/bias\tshape    (512,)              \tsize    512\n",
      "INFO:tensorflow:Weight    body/encoder/layer_3/self_attention/multihead_attention/output_transform_single/kernel\tshape    (1, 1, 512, 512)    \tsize    262144\n",
      "INFO:tensorflow:Weight    body/encoder/layer_3/self_attention/multihead_attention/qkv_transform_single/bias\tshape    (1536,)             \tsize    1536\n",
      "INFO:tensorflow:Weight    body/encoder/layer_3/self_attention/multihead_attention/qkv_transform_single/kernel\tshape    (1, 1, 512, 1536)   \tsize    786432\n",
      "INFO:tensorflow:Weight    body/encoder/layer_4/ffn/conv_hidden_relu/conv1_single/bias                     \tshape    (2048,)             \tsize    2048\n",
      "INFO:tensorflow:Weight    body/encoder/layer_4/ffn/conv_hidden_relu/conv1_single/kernel                   \tshape    (1, 1, 512, 2048)   \tsize    1048576\n",
      "INFO:tensorflow:Weight    body/encoder/layer_4/ffn/conv_hidden_relu/conv2_single/bias                     \tshape    (512,)              \tsize    512\n",
      "INFO:tensorflow:Weight    body/encoder/layer_4/ffn/conv_hidden_relu/conv2_single/kernel                   \tshape    (1, 1, 2048, 512)   \tsize    1048576\n",
      "INFO:tensorflow:Weight    body/encoder/layer_4/ffn/layer_postprocess/layer_norm/layer_norm_bias           \tshape    (512,)              \tsize    512\n",
      "INFO:tensorflow:Weight    body/encoder/layer_4/ffn/layer_postprocess/layer_norm/layer_norm_scale          \tshape    (512,)              \tsize    512\n",
      "INFO:tensorflow:Weight    body/encoder/layer_4/self_attention/layer_postprocess/layer_norm/layer_norm_bias\tshape    (512,)              \tsize    512\n",
      "INFO:tensorflow:Weight    body/encoder/layer_4/self_attention/layer_postprocess/layer_norm/layer_norm_scale\tshape    (512,)              \tsize    512\n",
      "INFO:tensorflow:Weight    body/encoder/layer_4/self_attention/multihead_attention/output_transform_single/bias\tshape    (512,)              \tsize    512\n",
      "INFO:tensorflow:Weight    body/encoder/layer_4/self_attention/multihead_attention/output_transform_single/kernel\tshape    (1, 1, 512, 512)    \tsize    262144\n",
      "INFO:tensorflow:Weight    body/encoder/layer_4/self_attention/multihead_attention/qkv_transform_single/bias\tshape    (1536,)             \tsize    1536\n",
      "INFO:tensorflow:Weight    body/encoder/layer_4/self_attention/multihead_attention/qkv_transform_single/kernel\tshape    (1, 1, 512, 1536)   \tsize    786432\n",
      "INFO:tensorflow:Weight    body/encoder/layer_5/ffn/conv_hidden_relu/conv1_single/bias                     \tshape    (2048,)             \tsize    2048\n",
      "INFO:tensorflow:Weight    body/encoder/layer_5/ffn/conv_hidden_relu/conv1_single/kernel                   \tshape    (1, 1, 512, 2048)   \tsize    1048576\n",
      "INFO:tensorflow:Weight    body/encoder/layer_5/ffn/conv_hidden_relu/conv2_single/bias                     \tshape    (512,)              \tsize    512\n",
      "INFO:tensorflow:Weight    body/encoder/layer_5/ffn/conv_hidden_relu/conv2_single/kernel                   \tshape    (1, 1, 2048, 512)   \tsize    1048576\n",
      "INFO:tensorflow:Weight    body/encoder/layer_5/ffn/layer_postprocess/layer_norm/layer_norm_bias           \tshape    (512,)              \tsize    512\n",
      "INFO:tensorflow:Weight    body/encoder/layer_5/ffn/layer_postprocess/layer_norm/layer_norm_scale          \tshape    (512,)              \tsize    512\n",
      "INFO:tensorflow:Weight    body/encoder/layer_5/self_attention/layer_postprocess/layer_norm/layer_norm_bias\tshape    (512,)              \tsize    512\n",
      "INFO:tensorflow:Weight    body/encoder/layer_5/self_attention/layer_postprocess/layer_norm/layer_norm_scale\tshape    (512,)              \tsize    512\n",
      "INFO:tensorflow:Weight    body/encoder/layer_5/self_attention/multihead_attention/output_transform_single/bias\tshape    (512,)              \tsize    512\n",
      "INFO:tensorflow:Weight    body/encoder/layer_5/self_attention/multihead_attention/output_transform_single/kernel\tshape    (1, 1, 512, 512)    \tsize    262144\n",
      "INFO:tensorflow:Weight    body/encoder/layer_5/self_attention/multihead_attention/qkv_transform_single/bias\tshape    (1536,)             \tsize    1536\n",
      "INFO:tensorflow:Weight    body/encoder/layer_5/self_attention/multihead_attention/qkv_transform_single/kernel\tshape    (1, 1, 512, 1536)   \tsize    786432\n",
      "INFO:tensorflow:Weight    body/target_space_embedding/kernel                                              \tshape    (32, 512)           \tsize    16384\n",
      "INFO:tensorflow:Weight    symbol_modality_7991_512/shared/weights_0                                       \tshape    (500, 512)          \tsize    256000\n",
      "INFO:tensorflow:Weight    symbol_modality_7991_512/shared/weights_10                                      \tshape    (499, 512)          \tsize    255488\n",
      "INFO:tensorflow:Weight    symbol_modality_7991_512/shared/weights_11                                      \tshape    (499, 512)          \tsize    255488\n",
      "INFO:tensorflow:Weight    symbol_modality_7991_512/shared/weights_12                                      \tshape    (499, 512)          \tsize    255488\n",
      "INFO:tensorflow:Weight    symbol_modality_7991_512/shared/weights_13                                      \tshape    (499, 512)          \tsize    255488\n",
      "INFO:tensorflow:Weight    symbol_modality_7991_512/shared/weights_14                                      \tshape    (499, 512)          \tsize    255488\n",
      "INFO:tensorflow:Weight    symbol_modality_7991_512/shared/weights_15                                      \tshape    (499, 512)          \tsize    255488\n",
      "INFO:tensorflow:Weight    symbol_modality_7991_512/shared/weights_1                                       \tshape    (500, 512)          \tsize    256000\n",
      "INFO:tensorflow:Weight    symbol_modality_7991_512/shared/weights_2                                       \tshape    (500, 512)          \tsize    256000\n",
      "INFO:tensorflow:Weight    symbol_modality_7991_512/shared/weights_3                                       \tshape    (500, 512)          \tsize    256000\n",
      "INFO:tensorflow:Weight    symbol_modality_7991_512/shared/weights_4                                       \tshape    (500, 512)          \tsize    256000\n",
      "INFO:tensorflow:Weight    symbol_modality_7991_512/shared/weights_5                                       \tshape    (500, 512)          \tsize    256000\n",
      "INFO:tensorflow:Weight    symbol_modality_7991_512/shared/weights_6                                       \tshape    (500, 512)          \tsize    256000\n",
      "INFO:tensorflow:Weight    symbol_modality_7991_512/shared/weights_7                                       \tshape    (499, 512)          \tsize    255488\n",
      "INFO:tensorflow:Weight    symbol_modality_7991_512/shared/weights_8                                       \tshape    (499, 512)          \tsize    255488\n",
      "INFO:tensorflow:Weight    symbol_modality_7991_512/shared/weights_9                                       \tshape    (499, 512)          \tsize    255488\n",
      "INFO:tensorflow:Trainable Variables Total size: 48246272\n",
      "INFO:tensorflow:Diet Varaibles Total size: 0\n",
      "INFO:tensorflow:Computing gradients for global model_fn.\n",
      "INFO:tensorflow:Global model_fn finished.\n",
      "INFO:tensorflow:Create CheckpointSaverHook.\n",
      "2017-09-27 18:46:42.344261: W tensorflow/core/platform/cpu_feature_guard.cc:45] The TensorFlow library wasn't compiled to use SSE4.1 instructions, but these are available on your machine and could speed up CPU computations.\n",
      "2017-09-27 18:46:42.344360: W tensorflow/core/platform/cpu_feature_guard.cc:45] The TensorFlow library wasn't compiled to use SSE4.2 instructions, but these are available on your machine and could speed up CPU computations.\n",
      "2017-09-27 18:46:42.344392: W tensorflow/core/platform/cpu_feature_guard.cc:45] The TensorFlow library wasn't compiled to use AVX instructions, but these are available on your machine and could speed up CPU computations.\n",
      "2017-09-27 18:46:42.344409: W tensorflow/core/platform/cpu_feature_guard.cc:45] The TensorFlow library wasn't compiled to use AVX2 instructions, but these are available on your machine and could speed up CPU computations.\n",
      "2017-09-27 18:46:42.344444: W tensorflow/core/platform/cpu_feature_guard.cc:45] The TensorFlow library wasn't compiled to use FMA instructions, but these are available on your machine and could speed up CPU computations.\n",
      "bash: line 9:  4104 Killed                  python -m ende.t2t-trainer --data_dir=gs://${BUCKET}/translate_ende/subset --problems=$PROBLEM --model=transformer --hparams_set=transformer_base_single_gpu --output_dir=$OUTDIR --job-dir=./tmp\n"
     ]
    }
   ],
   "source": [
    "%bash\n",
    "OUTDIR=./trained_model\n",
    "rm -rf $OUTDIR\n",
    "export PYTHONPATH=${PYTHONPATH}:${PWD}/ende\n",
    "python -m ende.t2t-trainer \\\n",
    "  --data_dir=gs://${BUCKET}/translate_ende/subset \\\n",
    "  --problems=$PROBLEM \\\n",
    "  --model=transformer \\\n",
    "  --hparams_set=transformer_base_single_gpu \\\n",
    "  --output_dir=$OUTDIR --job-dir=./tmp"
   ]
  },
  {
   "cell_type": "markdown",
   "metadata": {},
   "source": [
    "## Train on Cloud ML Engine\n",
    "\n",
    "Once we have a working Python package, training on a Cloud ML Engine GPU is straightforward"
   ]
  },
  {
   "cell_type": "code",
   "execution_count": null,
   "metadata": {
    "collapsed": false
   },
   "outputs": [],
   "source": [
    "%bash\n",
    "OUTDIR=gs://${BUCKET}/translate_ende/model\n",
    "JOBNAME=t2t_$(date -u +%y%m%d_%H%M%S)\n",
    "echo $OUTDIR $REGION $JOBNAME\n",
    "gsutil -m rm -rf $OUTDIR\n",
    "gcloud ml-engine jobs submit training $JOBNAME \\\n",
    "   --region=$REGION \\\n",
    "   --staging-bucket=gs://$BUCKET \\\n",
    "   --scale-tier=BASIC_GPU \\\n",
    "   --module-name=ende.t2t-trainer \\\n",
    "   --package-path=${PWD}/ende \\\n",
    "   --job-dir=$OUTDIR \\\n",
    "   -- \\\n",
    "  --data_dir=gs://${BUCKET}/translate_ende/data \\\n",
    "  --problems=my_translate_problem \\\n",
    "  --model=transformer \\\n",
    "  --hparams_set=transformer_base_single_gpu \\\n",
    "  --output_dir=$OUTDIR"
   ]
  },
  {
   "cell_type": "code",
   "execution_count": null,
   "metadata": {
    "collapsed": true
   },
   "outputs": [],
   "source": []
  }
 ],
 "metadata": {
  "kernelspec": {
   "display_name": "Python 2",
   "language": "python",
   "name": "python2"
  },
  "language_info": {
   "codemirror_mode": {
    "name": "ipython",
    "version": 2
   },
   "file_extension": ".py",
   "mimetype": "text/x-python",
   "name": "python",
   "nbconvert_exporter": "python",
   "pygments_lexer": "ipython2",
   "version": "2.7.12"
  }
 },
 "nbformat": 4,
 "nbformat_minor": 2
}
