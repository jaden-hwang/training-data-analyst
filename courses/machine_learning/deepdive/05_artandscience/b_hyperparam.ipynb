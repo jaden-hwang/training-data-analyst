{
 "cells": [
  {
   "cell_type": "markdown",
   "metadata": {
    "colab_type": "text",
    "id": "4f3CKqFUqL2-",
    "slideshow": {
     "slide_type": "slide"
    }
   },
   "source": [
    "# Hyperparameter tuning with Cloud ML Engine"
   ]
  },
  {
   "cell_type": "markdown",
   "metadata": {},
   "source": [
    "**Learning Objectives:**\n",
    "  * Improve the accuracy of a model by hyperparameter tuning"
   ]
  },
  {
   "cell_type": "markdown",
   "metadata": {
    "colab_type": "text",
    "id": "6TjLjL9IU80G"
   },
   "source": [
    "## Create command-line program\n",
    "\n",
    "In order to submit to Cloud ML Engine, we need to create a distributed training program. Let's convert our housing example to fit that paradigm, using Experiment and Estimator."
   ]
  },
  {
   "cell_type": "code",
   "execution_count": 74,
   "metadata": {
    "collapsed": true
   },
   "outputs": [],
   "source": [
    "%bash\n",
    "rm -rf trainer\n",
    "mkdir trainer\n",
    "touch trainer/__init__.py"
   ]
  },
  {
   "cell_type": "code",
   "execution_count": 75,
   "metadata": {
    "collapsed": false
   },
   "outputs": [
    {
     "name": "stdout",
     "output_type": "stream",
     "text": [
      "Writing trainer/house.py\n"
     ]
    }
   ],
   "source": [
    "%%writefile trainer/house.py\n",
    "import os\n",
    "import math\n",
    "import json\n",
    "import shutil\n",
    "import argparse\n",
    "import numpy as np\n",
    "import pandas as pd\n",
    "import tensorflow as tf\n",
    "import tensorflow.contrib.learn as estimators\n",
    "import tensorflow.contrib.layers as tflayers\n",
    "from tensorflow.contrib.learn.python.learn import learn_runner\n",
    "from tensorflow.contrib.learn.python.learn.learn_io import pandas_input_fn\n",
    "\n",
    "def train(output_dir, batch_size, learning_rate):\n",
    "    tf.logging.set_verbosity(tf.logging.INFO)\n",
    "    # read dataset and split into train and eval\n",
    "    df = pd.read_csv(\"https://storage.googleapis.com/ml_universities/california_housing_train.csv\", sep=\",\")\n",
    "    df['num_rooms'] = df['total_rooms'] / df['households']\n",
    "    msk = np.random.rand(len(df)) < 0.8\n",
    "    traindf = df[msk]\n",
    "    evaldf = df[~msk]\n",
    "    \n",
    "    # train and eval input functions\n",
    "    SCALE = 100000\n",
    "    train_input_fn = pandas_input_fn(x=traindf[[\"num_rooms\"]],\n",
    "                           y=traindf[\"median_house_value\"]/SCALE,  # note the scaling\n",
    "                           num_epochs=1,\n",
    "                           batch_size=batch_size, # note the batch size\n",
    "                           shuffle=True)\n",
    "    eval_input_fn = pandas_input_fn(x=evaldf[[\"num_rooms\"]],\n",
    "                              y=evaldf[\"median_house_value\"]/SCALE,  # note the scaling\n",
    "                              num_epochs=1, batch_size=len(evaldf), shuffle=False)\n",
    "    \n",
    "    def _experiment_fn(output_dir):\n",
    "        # setup output directory to not clobber\n",
    "        output_dir = os.path.join(output_dir,json.loads(\n",
    "          os.environ.get('TF_CONFIG', '{}')).get('task', {}).get('trial', ''))\n",
    "\n",
    "        # create estimator\n",
    "        features = [tflayers.real_valued_column('num_rooms')]\n",
    "        myopt = tf.train.FtrlOptimizer(learning_rate=learning_rate) # note the learning rate\n",
    "        model = estimators.LinearRegressor(model_dir=output_dir,\n",
    "                                   feature_columns=features,\n",
    "                                   optimizer=myopt,\n",
    "                                   gradient_clip_norm=5.0)\n",
    "\n",
    "        # compute appropriate number of steps\n",
    "        num_steps = (len(df) / batch_size) / learning_rate  # if learning_rate=0.01, hundred epochs\n",
    "    \n",
    "        experiment = estimators.Experiment(model, \n",
    "            train_input_fn=train_input_fn,\n",
    "            eval_input_fn=eval_input_fn,\n",
    "            #eval_metrics = {'rmse': estimators.MetricSpec(metric_fn=tf.metrics.root_mean_squared_error)},\n",
    "            train_steps=num_steps\n",
    "        )\n",
    "        return experiment\n",
    "    \n",
    "    learn_runner.run(_experiment_fn, output_dir=output_dir)\n",
    "    \n",
    "if __name__ == '__main__' and \"get_ipython\" not in dir():\n",
    "  parser = argparse.ArgumentParser()\n",
    "  parser.add_argument(\n",
    "      '--learning_rate',\n",
    "      type=float, default=0.01\n",
    "  )\n",
    "  parser.add_argument(\n",
    "      '--batch_size',\n",
    "      type=int, default=30\n",
    "  ),\n",
    "  parser.add_argument(\n",
    "      '--output_dir',\n",
    "      help='GCS location to write checkpoints and export models',\n",
    "      required=True\n",
    "  )\n",
    "  parser.add_argument(\n",
    "      '--job-dir',\n",
    "      help='this model ignores this field, but it is required by gcloud',\n",
    "      default='junk'\n",
    "  )\n",
    "  args = parser.parse_args()\n",
    "  train(args.output_dir, args.batch_size, args.learning_rate)"
   ]
  },
  {
   "cell_type": "code",
   "execution_count": null,
   "metadata": {
    "collapsed": false
   },
   "outputs": [],
   "source": [
    "%bash\n",
    "rm -rf house_trained\n",
    "gcloud ml-engine local train --module-name=trainer.house --job-dir=output_dir --package-path=$(pwd)/trainer \\\n",
    "   -- --output_dir=house_trained --batch_size=30 --learning_rate=0.02"
   ]
  },
  {
   "cell_type": "markdown",
   "metadata": {},
   "source": [
    "# Create hyperparam.yaml"
   ]
  },
  {
   "cell_type": "code",
   "execution_count": 80,
   "metadata": {
    "collapsed": false
   },
   "outputs": [
    {
     "name": "stdout",
     "output_type": "stream",
     "text": [
      "Overwriting hyperparam.yaml\n"
     ]
    }
   ],
   "source": [
    "%writefile hyperparam.yaml\n",
    "trainingInput:\n",
    "  hyperparameters:\n",
    "    goal: MINIMIZE\n",
    "    maxTrials: 5\n",
    "    maxParallelTrials: 1\n",
    "    hyperparameterMetricTag: loss\n",
    "    params:\n",
    "    - parameterName: batch_size\n",
    "      type: INTEGER\n",
    "      minValue: 8\n",
    "      maxValue: 512\n",
    "      scaleType: UNIT_LOG_SCALE\n",
    "    - parameterName: learning_rate\n",
    "      type: DOUBLE\n",
    "      minValue: 0.001\n",
    "      maxValue: 0.1\n",
    "      scaleType: UNIT_LOG_SCALE"
   ]
  },
  {
   "cell_type": "code",
   "execution_count": null,
   "metadata": {
    "collapsed": false
   },
   "outputs": [],
   "source": [
    "%bash\n",
    "OUTDIR=gs://asl-ml-immersion-temp/house_trained   # CHANGE bucket name appropriately\n",
    "gsutil rm -rf $OUTDIR\n",
    "gcloud ml-engine jobs submit training house_$(date -u +%y%m%d_%H%M%S) --config=hyperparam.yaml \\\n",
    "   --module-name=trainer.house --package-path=$(pwd)/trainer --job-dir=$OUTDIR \\\n",
    "   -- --output_dir=$OUTDIR"
   ]
  },
  {
   "cell_type": "code",
   "execution_count": 90,
   "metadata": {
    "collapsed": false
   },
   "outputs": [
    {
     "name": "stdout",
     "output_type": "stream",
     "text": [
      "createTime: '2017-08-20T03:40:19Z'\n",
      "endTime: '2017-08-20T04:07:30Z'\n",
      "jobId: house_170820_034011\n",
      "startTime: '2017-08-20T03:40:23Z'\n",
      "state: SUCCEEDED\n",
      "trainingInput:\n",
      "  args:\n",
      "  - --output_dir=gs://asl-ml-immersion-temp/house_trained\n",
      "  hyperparameters:\n",
      "    goal: MINIMIZE\n",
      "    hyperparameterMetricTag: loss\n",
      "    maxParallelTrials: 1\n",
      "    maxTrials: 5\n",
      "    params:\n",
      "    - maxValue: 512.0\n",
      "      minValue: 8.0\n",
      "      parameterName: batch_size\n",
      "      scaleType: UNIT_LOG_SCALE\n",
      "      type: INTEGER\n",
      "    - maxValue: 0.1\n",
      "      minValue: 0.001\n",
      "      parameterName: learning_rate\n",
      "      scaleType: UNIT_LOG_SCALE\n",
      "      type: DOUBLE\n",
      "  jobDir: gs://asl-ml-immersion-temp/house_trained\n",
      "  packageUris:\n",
      "  - gs://asl-ml-immersion-temp/house_trained/packages/2663496b2b798e578d89c2b8155296551772bfde42525379a8cc3c9f28153661/trainer-0.0.0.tar.gz\n",
      "  pythonModule: trainer.house\n",
      "  region: us-central1\n",
      "trainingOutput:\n",
      "  completedTrialCount: '5'\n",
      "  consumedMLUnits: 0.23\n",
      "  isHyperparameterTuningJob: true\n",
      "  trials:\n",
      "  - finalMetric:\n",
      "      objectiveValue: 0.739228\n",
      "      trainingStep: '1700'\n",
      "    hyperparameters:\n",
      "      batch_size: '8'\n",
      "      learning_rate: '0.021851263386750121'\n",
      "    trialId: '4'\n",
      "  - finalMetric:\n",
      "      objectiveValue: 0.937952\n",
      "      trainingStep: '91'\n",
      "    hyperparameters:\n",
      "      batch_size: '150'\n",
      "      learning_rate: '0.047450797021255452'\n",
      "    trialId: '3'\n",
      "  - finalMetric:\n",
      "      objectiveValue: 0.971222\n",
      "      trainingStep: '1698'\n",
      "    hyperparameters:\n",
      "      batch_size: '8'\n",
      "      learning_rate: '0.099523562994667733'\n",
      "    trialId: '2'\n",
      "  - finalMetric:\n",
      "      objectiveValue: 1.53511\n",
      "      trainingStep: '37'\n",
      "    hyperparameters:\n",
      "      batch_size: '369'\n",
      "      learning_rate: '0.010398986796811387'\n",
      "    trialId: '5'\n",
      "  - finalMetric:\n",
      "      objectiveValue: 2.41679\n",
      "      trainingStep: '240'\n",
      "    hyperparameters:\n",
      "      batch_size: '57'\n",
      "      learning_rate: '0.0010349512212774335'\n",
      "    trialId: '1'\n",
      "\n",
      "View job in the Cloud Console at:\n",
      "https://console.cloud.google.com/ml/jobs/house_170820_034011?project=asl-ml-immersion\n",
      "\n",
      "View logs at:\n",
      "https://console.cloud.google.com/logs?resource=ml.googleapis.com%2Fjob_id%2Fhouse_170820_034011&project=asl-ml-immersion\n"
     ]
    }
   ],
   "source": [
    "!gcloud ml-engine jobs describe house_170820_034011"
   ]
  },
  {
   "cell_type": "code",
   "execution_count": null,
   "metadata": {
    "collapsed": true
   },
   "outputs": [],
   "source": []
  }
 ],
 "metadata": {
  "colab": {
   "default_view": {},
   "name": "first_steps_with_tensor_flow.ipynb",
   "provenance": [],
   "version": "0.3.2",
   "views": {}
  },
  "kernelspec": {
   "display_name": "Python 2",
   "language": "python",
   "name": "python2"
  },
  "language_info": {
   "codemirror_mode": {
    "name": "ipython",
    "version": 2
   },
   "file_extension": ".py",
   "mimetype": "text/x-python",
   "name": "python",
   "nbconvert_exporter": "python",
   "pygments_lexer": "ipython2",
   "version": "2.7.12"
  }
 },
 "nbformat": 4,
 "nbformat_minor": 0
}
