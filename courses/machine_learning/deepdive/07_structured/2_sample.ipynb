{
 "cells": [
  {
   "cell_type": "markdown",
   "metadata": {},
   "source": [
    "<h1> 2. Creating a sampled dataset </h1>\n",
    "\n",
    "This notebook illustrates:\n",
    "<ol>\n",
    "<li> Sampling a BigQuery dataset to create datasets for ML\n",
    "<li> Preprocessing with Pandas\n",
    "</ol>"
   ]
  },
  {
   "cell_type": "code",
   "execution_count": 1,
   "metadata": {
    "collapsed": true
   },
   "outputs": [],
   "source": [
    "# change these to try this notebook out\n",
    "BUCKET = 'asl-ml-immersion-temp'\n",
    "PROJECT = 'asl-ml-immersion'\n",
    "REGION = 'us-central1'"
   ]
  },
  {
   "cell_type": "code",
   "execution_count": 2,
   "metadata": {
    "collapsed": true
   },
   "outputs": [],
   "source": [
    "import os\n",
    "os.environ['BUCKET'] = BUCKET\n",
    "os.environ['PROJECT'] = PROJECT\n",
    "os.environ['REGION'] = REGION"
   ]
  },
  {
   "cell_type": "code",
   "execution_count": 3,
   "metadata": {
    "collapsed": false
   },
   "outputs": [],
   "source": [
    "%%bash\n",
    "if ! gsutil ls | grep -q gs://${BUCKET}/; then\n",
    "  gsutil mb -l ${REGION} gs://${BUCKET}\n",
    "fi"
   ]
  },
  {
   "cell_type": "markdown",
   "metadata": {},
   "source": [
    "<h2> Create ML dataset by sampling using BigQuery </h2>\n",
    "<p>\n",
    "Let's sample the BigQuery data to create smaller datasets.\n",
    "</p>"
   ]
  },
  {
   "cell_type": "code",
   "execution_count": 1,
   "metadata": {
    "collapsed": true
   },
   "outputs": [],
   "source": [
    "import google.datalab.bigquery as bq\n",
    "query=\"\"\"\n",
    "SELECT\n",
    "  weight_pounds,\n",
    "  is_male,\n",
    "  mother_age,\n",
    "  mother_race,\n",
    "  plurality,\n",
    "  gestation_weeks,\n",
    "  mother_married,\n",
    "  ever_born,\n",
    "  cigarette_use,\n",
    "  alcohol_use,\n",
    "  ABS(FARM_FINGERPRINT(CONCAT(CAST(YEAR AS STRING), CAST(month AS STRING)))) AS hashmonth\n",
    "FROM\n",
    "  publicdata.samples.natality\n",
    "WHERE year > 2000\n",
    "\"\"\""
   ]
  },
  {
   "cell_type": "markdown",
   "metadata": {},
   "source": [
    "There are only a limited number of years and months in the dataset. Let's see what the hashmonths are."
   ]
  },
  {
   "cell_type": "code",
   "execution_count": 2,
   "metadata": {
    "collapsed": false
   },
   "outputs": [
    {
     "name": "stdout",
     "output_type": "stream",
     "text": [
      "There are 96 unique hashmonths.\n"
     ]
    },
    {
     "data": {
      "text/html": [
       "<div>\n",
       "<table border=\"1\" class=\"dataframe\">\n",
       "  <thead>\n",
       "    <tr style=\"text-align: right;\">\n",
       "      <th></th>\n",
       "      <th>hashmonth</th>\n",
       "      <th>num_babies</th>\n",
       "    </tr>\n",
       "  </thead>\n",
       "  <tbody>\n",
       "    <tr>\n",
       "      <th>0</th>\n",
       "      <td>1922480672677032316</td>\n",
       "      <td>367231</td>\n",
       "    </tr>\n",
       "    <tr>\n",
       "      <th>1</th>\n",
       "      <td>411066950820961322</td>\n",
       "      <td>318834</td>\n",
       "    </tr>\n",
       "    <tr>\n",
       "      <th>2</th>\n",
       "      <td>1569531340167098963</td>\n",
       "      <td>348504</td>\n",
       "    </tr>\n",
       "    <tr>\n",
       "      <th>3</th>\n",
       "      <td>6782146986770280327</td>\n",
       "      <td>345092</td>\n",
       "    </tr>\n",
       "    <tr>\n",
       "      <th>4</th>\n",
       "      <td>4979697502521811334</td>\n",
       "      <td>357965</td>\n",
       "    </tr>\n",
       "  </tbody>\n",
       "</table>\n",
       "</div>"
      ],
      "text/plain": [
       "             hashmonth  num_babies\n",
       "0  1922480672677032316      367231\n",
       "1   411066950820961322      318834\n",
       "2  1569531340167098963      348504\n",
       "3  6782146986770280327      345092\n",
       "4  4979697502521811334      357965"
      ]
     },
     "execution_count": 2,
     "metadata": {},
     "output_type": "execute_result"
    }
   ],
   "source": [
    "df = bq.Query(\"SELECT hashmonth, COUNT(weight_pounds) AS num_babies FROM (\" + query + \") GROUP BY hashmonth\").execute().result().to_dataframe()\n",
    "print(\"There are {} unique hashmonths.\".format(len(df)))\n",
    "df.head()"
   ]
  },
  {
   "cell_type": "markdown",
   "metadata": {},
   "source": [
    "Here's a way to get a well distributed portion of the data in such a way that the test and train sets do not overlap:"
   ]
  },
  {
   "cell_type": "code",
   "execution_count": 11,
   "metadata": {
    "collapsed": false
   },
   "outputs": [
    {
     "name": "stdout",
     "output_type": "stream",
     "text": [
      "There are 13369 examples in the train dataset and 3384 in the eval dataset\n"
     ]
    }
   ],
   "source": [
    "trainQuery = \"SELECT * FROM (\" + query + \") WHERE MOD(hashmonth, 4) < 3 AND RAND() < 0.0005\"\n",
    "evalQuery = \"SELECT * FROM (\" + query + \") WHERE MOD(hashmonth, 4) = 3 AND RAND() < 0.0005\"\n",
    "traindf = bq.Query(trainQuery).execute().result().to_dataframe()\n",
    "evaldf = bq.Query(evalQuery).execute().result().to_dataframe()\n",
    "print(\"There are {} examples in the train dataset and {} in the eval dataset\".format(len(traindf), len(evaldf)))"
   ]
  },
  {
   "cell_type": "markdown",
   "metadata": {},
   "source": [
    "<h2> Preprocess data using Pandas </h2>\n",
    "<p>\n",
    "Notice that the race field is 1.0, 4.0, etc.  Let's replace by text-strings. Our final deployed service will ask for text names, not magic numbers."
   ]
  },
  {
   "cell_type": "code",
   "execution_count": 5,
   "metadata": {
    "collapsed": false
   },
   "outputs": [
    {
     "data": {
      "text/html": [
       "<div>\n",
       "<table border=\"1\" class=\"dataframe\">\n",
       "  <thead>\n",
       "    <tr style=\"text-align: right;\">\n",
       "      <th></th>\n",
       "      <th>weight_pounds</th>\n",
       "      <th>is_male</th>\n",
       "      <th>mother_age</th>\n",
       "      <th>mother_race</th>\n",
       "      <th>plurality</th>\n",
       "      <th>gestation_weeks</th>\n",
       "      <th>mother_married</th>\n",
       "      <th>cigarette_use</th>\n",
       "      <th>alcohol_use</th>\n",
       "      <th>hashmonth</th>\n",
       "    </tr>\n",
       "  </thead>\n",
       "  <tbody>\n",
       "    <tr>\n",
       "      <th>0</th>\n",
       "      <td>8.518662</td>\n",
       "      <td>True</td>\n",
       "      <td>21</td>\n",
       "      <td>White</td>\n",
       "      <td>1</td>\n",
       "      <td>NaN</td>\n",
       "      <td>True</td>\n",
       "      <td>None</td>\n",
       "      <td>None</td>\n",
       "      <td>774501970389208065</td>\n",
       "    </tr>\n",
       "    <tr>\n",
       "      <th>1</th>\n",
       "      <td>8.595824</td>\n",
       "      <td>False</td>\n",
       "      <td>29</td>\n",
       "      <td>White</td>\n",
       "      <td>1</td>\n",
       "      <td>39.0</td>\n",
       "      <td>True</td>\n",
       "      <td>None</td>\n",
       "      <td>None</td>\n",
       "      <td>774501970389208065</td>\n",
       "    </tr>\n",
       "    <tr>\n",
       "      <th>2</th>\n",
       "      <td>6.499227</td>\n",
       "      <td>False</td>\n",
       "      <td>34</td>\n",
       "      <td>White</td>\n",
       "      <td>1</td>\n",
       "      <td>40.0</td>\n",
       "      <td>True</td>\n",
       "      <td>None</td>\n",
       "      <td>None</td>\n",
       "      <td>774501970389208065</td>\n",
       "    </tr>\n",
       "    <tr>\n",
       "      <th>3</th>\n",
       "      <td>8.849355</td>\n",
       "      <td>False</td>\n",
       "      <td>24</td>\n",
       "      <td>White</td>\n",
       "      <td>1</td>\n",
       "      <td>40.0</td>\n",
       "      <td>True</td>\n",
       "      <td>None</td>\n",
       "      <td>None</td>\n",
       "      <td>774501970389208065</td>\n",
       "    </tr>\n",
       "    <tr>\n",
       "      <th>4</th>\n",
       "      <td>7.936641</td>\n",
       "      <td>True</td>\n",
       "      <td>26</td>\n",
       "      <td>White</td>\n",
       "      <td>1</td>\n",
       "      <td>40.0</td>\n",
       "      <td>False</td>\n",
       "      <td>None</td>\n",
       "      <td>None</td>\n",
       "      <td>774501970389208065</td>\n",
       "    </tr>\n",
       "  </tbody>\n",
       "</table>\n",
       "</div>"
      ],
      "text/plain": [
       "   weight_pounds is_male  mother_age mother_race  plurality  gestation_weeks  \\\n",
       "0       8.518662    True          21       White          1              NaN   \n",
       "1       8.595824   False          29       White          1             39.0   \n",
       "2       6.499227   False          34       White          1             40.0   \n",
       "3       8.849355   False          24       White          1             40.0   \n",
       "4       7.936641    True          26       White          1             40.0   \n",
       "\n",
       "  mother_married cigarette_use alcohol_use           hashmonth  \n",
       "0           True          None        None  774501970389208065  \n",
       "1           True          None        None  774501970389208065  \n",
       "2           True          None        None  774501970389208065  \n",
       "3           True          None        None  774501970389208065  \n",
       "4          False          None        None  774501970389208065  "
      ]
     },
     "execution_count": 5,
     "metadata": {},
     "output_type": "execute_result"
    }
   ],
   "source": [
    "traindf.head()"
   ]
  },
  {
   "cell_type": "markdown",
   "metadata": {},
   "source": [
    "Also notice that there are some very important numeric fields that are missing in some rows (the count in Pandas doesn't count missing data)"
   ]
  },
  {
   "cell_type": "code",
   "execution_count": 8,
   "metadata": {
    "collapsed": false
   },
   "outputs": [
    {
     "data": {
      "text/html": [
       "<div>\n",
       "<table border=\"1\" class=\"dataframe\">\n",
       "  <thead>\n",
       "    <tr style=\"text-align: right;\">\n",
       "      <th></th>\n",
       "      <th>weight_pounds</th>\n",
       "      <th>mother_age</th>\n",
       "      <th>mother_race</th>\n",
       "      <th>plurality</th>\n",
       "      <th>gestation_weeks</th>\n",
       "      <th>ever_born</th>\n",
       "      <th>hashmonth</th>\n",
       "    </tr>\n",
       "  </thead>\n",
       "  <tbody>\n",
       "    <tr>\n",
       "      <th>count</th>\n",
       "      <td>13179.000000</td>\n",
       "      <td>13188.000000</td>\n",
       "      <td>9305.000000</td>\n",
       "      <td>13188.000000</td>\n",
       "      <td>13110.000000</td>\n",
       "      <td>13140.000000</td>\n",
       "      <td>1.318800e+04</td>\n",
       "    </tr>\n",
       "    <tr>\n",
       "      <th>mean</th>\n",
       "      <td>7.231032</td>\n",
       "      <td>27.429785</td>\n",
       "      <td>2.872434</td>\n",
       "      <td>1.034198</td>\n",
       "      <td>38.602517</td>\n",
       "      <td>2.075875</td>\n",
       "      <td>4.402066e+18</td>\n",
       "    </tr>\n",
       "    <tr>\n",
       "      <th>std</th>\n",
       "      <td>1.338385</td>\n",
       "      <td>6.139551</td>\n",
       "      <td>9.738043</td>\n",
       "      <td>0.193074</td>\n",
       "      <td>2.579807</td>\n",
       "      <td>1.259573</td>\n",
       "      <td>2.834400e+18</td>\n",
       "    </tr>\n",
       "    <tr>\n",
       "      <th>min</th>\n",
       "      <td>0.500449</td>\n",
       "      <td>13.000000</td>\n",
       "      <td>1.000000</td>\n",
       "      <td>1.000000</td>\n",
       "      <td>17.000000</td>\n",
       "      <td>1.000000</td>\n",
       "      <td>1.244589e+17</td>\n",
       "    </tr>\n",
       "    <tr>\n",
       "      <th>25%</th>\n",
       "      <td>6.563162</td>\n",
       "      <td>23.000000</td>\n",
       "      <td>1.000000</td>\n",
       "      <td>1.000000</td>\n",
       "      <td>38.000000</td>\n",
       "      <td>1.000000</td>\n",
       "      <td>1.525201e+18</td>\n",
       "    </tr>\n",
       "    <tr>\n",
       "      <th>50%</th>\n",
       "      <td>7.312733</td>\n",
       "      <td>27.000000</td>\n",
       "      <td>1.000000</td>\n",
       "      <td>1.000000</td>\n",
       "      <td>39.000000</td>\n",
       "      <td>2.000000</td>\n",
       "      <td>4.329667e+18</td>\n",
       "    </tr>\n",
       "    <tr>\n",
       "      <th>75%</th>\n",
       "      <td>8.062305</td>\n",
       "      <td>32.000000</td>\n",
       "      <td>1.000000</td>\n",
       "      <td>1.000000</td>\n",
       "      <td>40.000000</td>\n",
       "      <td>3.000000</td>\n",
       "      <td>7.170970e+18</td>\n",
       "    </tr>\n",
       "    <tr>\n",
       "      <th>max</th>\n",
       "      <td>12.908065</td>\n",
       "      <td>48.000000</td>\n",
       "      <td>78.000000</td>\n",
       "      <td>4.000000</td>\n",
       "      <td>47.000000</td>\n",
       "      <td>13.000000</td>\n",
       "      <td>9.183606e+18</td>\n",
       "    </tr>\n",
       "  </tbody>\n",
       "</table>\n",
       "</div>"
      ],
      "text/plain": [
       "       weight_pounds    mother_age  mother_race     plurality  \\\n",
       "count   13179.000000  13188.000000  9305.000000  13188.000000   \n",
       "mean        7.231032     27.429785     2.872434      1.034198   \n",
       "std         1.338385      6.139551     9.738043      0.193074   \n",
       "min         0.500449     13.000000     1.000000      1.000000   \n",
       "25%         6.563162     23.000000     1.000000      1.000000   \n",
       "50%         7.312733     27.000000     1.000000      1.000000   \n",
       "75%         8.062305     32.000000     1.000000      1.000000   \n",
       "max        12.908065     48.000000    78.000000      4.000000   \n",
       "\n",
       "       gestation_weeks     ever_born     hashmonth  \n",
       "count     13110.000000  13140.000000  1.318800e+04  \n",
       "mean         38.602517      2.075875  4.402066e+18  \n",
       "std           2.579807      1.259573  2.834400e+18  \n",
       "min          17.000000      1.000000  1.244589e+17  \n",
       "25%          38.000000      1.000000  1.525201e+18  \n",
       "50%          39.000000      2.000000  4.329667e+18  \n",
       "75%          40.000000      3.000000  7.170970e+18  \n",
       "max          47.000000     13.000000  9.183606e+18  "
      ]
     },
     "execution_count": 8,
     "metadata": {},
     "output_type": "execute_result"
    }
   ],
   "source": [
    "traindf.describe()"
   ]
  },
  {
   "cell_type": "code",
   "execution_count": 12,
   "metadata": {
    "collapsed": false
   },
   "outputs": [
    {
     "data": {
      "text/html": [
       "<div>\n",
       "<table border=\"1\" class=\"dataframe\">\n",
       "  <thead>\n",
       "    <tr style=\"text-align: right;\">\n",
       "      <th></th>\n",
       "      <th>weight_pounds</th>\n",
       "      <th>is_male</th>\n",
       "      <th>mother_age</th>\n",
       "      <th>mother_race</th>\n",
       "      <th>plurality</th>\n",
       "      <th>gestation_weeks</th>\n",
       "      <th>mother_married</th>\n",
       "      <th>cigarette_use</th>\n",
       "      <th>alcohol_use</th>\n",
       "      <th>hashmonth</th>\n",
       "    </tr>\n",
       "  </thead>\n",
       "  <tbody>\n",
       "    <tr>\n",
       "      <th>0</th>\n",
       "      <td>7.813183</td>\n",
       "      <td>True</td>\n",
       "      <td>21</td>\n",
       "      <td>White</td>\n",
       "      <td>1</td>\n",
       "      <td>39.0</td>\n",
       "      <td>False</td>\n",
       "      <td>None</td>\n",
       "      <td>None</td>\n",
       "      <td>774501970389208065</td>\n",
       "    </tr>\n",
       "    <tr>\n",
       "      <th>1</th>\n",
       "      <td>7.500126</td>\n",
       "      <td>False</td>\n",
       "      <td>17</td>\n",
       "      <td>White</td>\n",
       "      <td>1</td>\n",
       "      <td>39.0</td>\n",
       "      <td>True</td>\n",
       "      <td>None</td>\n",
       "      <td>None</td>\n",
       "      <td>774501970389208065</td>\n",
       "    </tr>\n",
       "    <tr>\n",
       "      <th>2</th>\n",
       "      <td>9.748841</td>\n",
       "      <td>True</td>\n",
       "      <td>19</td>\n",
       "      <td>White</td>\n",
       "      <td>1</td>\n",
       "      <td>39.0</td>\n",
       "      <td>False</td>\n",
       "      <td>None</td>\n",
       "      <td>None</td>\n",
       "      <td>774501970389208065</td>\n",
       "    </tr>\n",
       "    <tr>\n",
       "      <th>3</th>\n",
       "      <td>7.936641</td>\n",
       "      <td>False</td>\n",
       "      <td>18</td>\n",
       "      <td>White</td>\n",
       "      <td>1</td>\n",
       "      <td>40.0</td>\n",
       "      <td>False</td>\n",
       "      <td>None</td>\n",
       "      <td>None</td>\n",
       "      <td>774501970389208065</td>\n",
       "    </tr>\n",
       "    <tr>\n",
       "      <th>4</th>\n",
       "      <td>7.936641</td>\n",
       "      <td>True</td>\n",
       "      <td>35</td>\n",
       "      <td>White</td>\n",
       "      <td>1</td>\n",
       "      <td>39.0</td>\n",
       "      <td>True</td>\n",
       "      <td>None</td>\n",
       "      <td>None</td>\n",
       "      <td>774501970389208065</td>\n",
       "    </tr>\n",
       "  </tbody>\n",
       "</table>\n",
       "</div>"
      ],
      "text/plain": [
       "   weight_pounds is_male  mother_age mother_race  plurality  gestation_weeks  \\\n",
       "0       7.813183    True          21       White          1             39.0   \n",
       "1       7.500126   False          17       White          1             39.0   \n",
       "2       9.748841    True          19       White          1             39.0   \n",
       "3       7.936641   False          18       White          1             40.0   \n",
       "4       7.936641    True          35       White          1             39.0   \n",
       "\n",
       "  mother_married cigarette_use alcohol_use           hashmonth  \n",
       "0          False          None        None  774501970389208065  \n",
       "1           True          None        None  774501970389208065  \n",
       "2          False          None        None  774501970389208065  \n",
       "3          False          None        None  774501970389208065  \n",
       "4           True          None        None  774501970389208065  "
      ]
     },
     "execution_count": 12,
     "metadata": {},
     "output_type": "execute_result"
    }
   ],
   "source": [
    "def preprocess(df):\n",
    "  # modify opaque numeric race code into human-readable data\n",
    "  races = dict(zip([-1,1,2,3,4,5,6,7,18,28,39,48],\n",
    "                   ['Unknown', 'White', 'Black', 'American Indian', 'Chinese', \n",
    "                    'Japanese', 'Hawaiian', 'Filipino',\n",
    "                    'Asian Indian', 'Korean', 'Samaon', 'Vietnamese']))\n",
    "  df['mother_race'].fillna(-1, inplace=True)\n",
    "  df['mother_race'].replace(races, inplace=True)\n",
    "  \n",
    "  # remove unwanted columns\n",
    "  del df['ever_born']\n",
    "  \n",
    "  # clean up data we don't want to train on\n",
    "  # in other words, users will have to tell us the mother's age\n",
    "  # otherwise, our ML service won't work.\n",
    "  # these were chosen because they are such good predictors\n",
    "  # and because these are easy enough to collect\n",
    "  df = df[df.weight_pounds > 0]\n",
    "  df = df[df.mother_age > 0]\n",
    "  df = df[df.gestation_weeks > 0]\n",
    "  df = df[df.plurality > 0]\n",
    "  \n",
    "  return df\n",
    "\n",
    "traindf = preprocess(traindf)\n",
    "evaldf = preprocess(evaldf)\n",
    "traindf.head()"
   ]
  },
  {
   "cell_type": "code",
   "execution_count": 17,
   "metadata": {
    "collapsed": false
   },
   "outputs": [
    {
     "data": {
      "text/html": [
       "<div>\n",
       "<table border=\"1\" class=\"dataframe\">\n",
       "  <thead>\n",
       "    <tr style=\"text-align: right;\">\n",
       "      <th></th>\n",
       "      <th>weight_pounds</th>\n",
       "      <th>mother_age</th>\n",
       "      <th>plurality</th>\n",
       "      <th>gestation_weeks</th>\n",
       "      <th>hashmonth</th>\n",
       "    </tr>\n",
       "  </thead>\n",
       "  <tbody>\n",
       "    <tr>\n",
       "      <th>count</th>\n",
       "      <td>13256.000000</td>\n",
       "      <td>13256.000000</td>\n",
       "      <td>13256.000000</td>\n",
       "      <td>13256.000000</td>\n",
       "      <td>1.325600e+04</td>\n",
       "    </tr>\n",
       "    <tr>\n",
       "      <th>mean</th>\n",
       "      <td>7.257200</td>\n",
       "      <td>27.441989</td>\n",
       "      <td>1.033871</td>\n",
       "      <td>38.620172</td>\n",
       "      <td>4.397037e+18</td>\n",
       "    </tr>\n",
       "    <tr>\n",
       "      <th>std</th>\n",
       "      <td>1.299769</td>\n",
       "      <td>6.130785</td>\n",
       "      <td>0.190651</td>\n",
       "      <td>2.500767</td>\n",
       "      <td>2.776080e+18</td>\n",
       "    </tr>\n",
       "    <tr>\n",
       "      <th>min</th>\n",
       "      <td>0.500449</td>\n",
       "      <td>12.000000</td>\n",
       "      <td>1.000000</td>\n",
       "      <td>18.000000</td>\n",
       "      <td>1.244589e+17</td>\n",
       "    </tr>\n",
       "    <tr>\n",
       "      <th>25%</th>\n",
       "      <td>6.602845</td>\n",
       "      <td>23.000000</td>\n",
       "      <td>1.000000</td>\n",
       "      <td>38.000000</td>\n",
       "      <td>1.622638e+18</td>\n",
       "    </tr>\n",
       "    <tr>\n",
       "      <th>50%</th>\n",
       "      <td>7.312733</td>\n",
       "      <td>27.000000</td>\n",
       "      <td>1.000000</td>\n",
       "      <td>39.000000</td>\n",
       "      <td>4.329667e+18</td>\n",
       "    </tr>\n",
       "    <tr>\n",
       "      <th>75%</th>\n",
       "      <td>8.062305</td>\n",
       "      <td>32.000000</td>\n",
       "      <td>1.000000</td>\n",
       "      <td>40.000000</td>\n",
       "      <td>7.108882e+18</td>\n",
       "    </tr>\n",
       "    <tr>\n",
       "      <th>max</th>\n",
       "      <td>13.558429</td>\n",
       "      <td>49.000000</td>\n",
       "      <td>4.000000</td>\n",
       "      <td>47.000000</td>\n",
       "      <td>9.183606e+18</td>\n",
       "    </tr>\n",
       "  </tbody>\n",
       "</table>\n",
       "</div>"
      ],
      "text/plain": [
       "       weight_pounds    mother_age     plurality  gestation_weeks  \\\n",
       "count   13256.000000  13256.000000  13256.000000     13256.000000   \n",
       "mean        7.257200     27.441989      1.033871        38.620172   \n",
       "std         1.299769      6.130785      0.190651         2.500767   \n",
       "min         0.500449     12.000000      1.000000        18.000000   \n",
       "25%         6.602845     23.000000      1.000000        38.000000   \n",
       "50%         7.312733     27.000000      1.000000        39.000000   \n",
       "75%         8.062305     32.000000      1.000000        40.000000   \n",
       "max        13.558429     49.000000      4.000000        47.000000   \n",
       "\n",
       "          hashmonth  \n",
       "count  1.325600e+04  \n",
       "mean   4.397037e+18  \n",
       "std    2.776080e+18  \n",
       "min    1.244589e+17  \n",
       "25%    1.622638e+18  \n",
       "50%    4.329667e+18  \n",
       "75%    7.108882e+18  \n",
       "max    9.183606e+18  "
      ]
     },
     "execution_count": 17,
     "metadata": {},
     "output_type": "execute_result"
    }
   ],
   "source": [
    "traindf.describe()"
   ]
  },
  {
   "cell_type": "markdown",
   "metadata": {},
   "source": [
    "<h2> Write out </h2>\n",
    "<p>\n",
    "In the final versions, we want to read from files, not Pandas dataframes. So, write the Pandas dataframes out as CSV files. \n",
    "Using CSV files gives us the advantage of shuffling during read. This is important for distributed training because some workers might be slower than others, and shuffling the data helps prevent the same data from being assigned to the slow workers.\n"
   ]
  },
  {
   "cell_type": "code",
   "execution_count": 13,
   "metadata": {
    "collapsed": false
   },
   "outputs": [],
   "source": [
    "traindf.to_csv('train.csv', index=False, header=False)\n",
    "evaldf.to_csv('eval.csv', index=False, header=False)"
   ]
  },
  {
   "cell_type": "code",
   "execution_count": 16,
   "metadata": {
    "collapsed": false
   },
   "outputs": [
    {
     "name": "stdout",
     "output_type": "stream",
     "text": [
      "   3352 eval.csv\n",
      "  13256 train.csv\n",
      "  16608 total\n",
      "==> eval.csv <==\n",
      "7.1870697412,False,19,White,1,38.0,True,,,4740473290291881219\n",
      "7.5839018128,True,23,Unknown,1,39.0,True,,,4740473290291881219\n",
      "8.11962510946,True,20,White,1,40.0,True,,,4740473290291881219\n",
      "4.96481014024,False,43,White,2,36.0,True,,,4740473290291881219\n",
      "7.87491199864,False,33,Unknown,1,42.0,True,,,4740473290291881219\n",
      "6.7571683303,True,28,White,1,39.0,True,,,4740473290291881219\n",
      "8.81187661214,False,39,Unknown,1,39.0,False,,,4740473290291881219\n",
      "7.3744626639,False,23,Unknown,1,40.0,True,,,4740473290291881219\n",
      "6.8012607827,False,20,White,1,44.0,True,,,4740473290291881219\n",
      "6.53009220044,False,21,Unknown,1,40.0,True,,,4740473290291881219\n",
      "\n",
      "==> train.csv <==\n",
      "7.81318256528,True,21,White,1,39.0,False,,,774501970389208065\n",
      "7.50012615324,False,17,White,1,39.0,True,,,774501970389208065\n",
      "9.74884122564,True,19,White,1,39.0,False,,,774501970389208065\n",
      "7.936641432,False,18,White,1,40.0,False,,,774501970389208065\n",
      "7.936641432,True,35,White,1,39.0,True,,,774501970389208065\n",
      "6.8122838958,True,16,Black,1,42.0,False,,,774501970389208065\n",
      "6.95337974348,False,18,White,1,40.0,False,,,774501970389208065\n",
      "7.74483926406,True,23,Black,1,42.0,False,,,774501970389208065\n",
      "7.12534030784,True,31,White,1,38.0,True,,,774501970389208065\n",
      "6.3272669194,False,23,White,1,39.0,False,,,774501970389208065\n"
     ]
    }
   ],
   "source": [
    "%bash\n",
    "wc -l *.csv\n",
    "head *.csv"
   ]
  },
  {
   "cell_type": "markdown",
   "metadata": {},
   "source": [
    "Copyright 2017 Google Inc. Licensed under the Apache License, Version 2.0 (the \"License\"); you may not use this file except in compliance with the License. You may obtain a copy of the License at http://www.apache.org/licenses/LICENSE-2.0 Unless required by applicable law or agreed to in writing, software distributed under the License is distributed on an \"AS IS\" BASIS, WITHOUT WARRANTIES OR CONDITIONS OF ANY KIND, either express or implied. See the License for the specific language governing permissions and limitations under the License"
   ]
  }
 ],
 "metadata": {
  "kernelspec": {
   "display_name": "Python 2",
   "language": "python",
   "name": "python2"
  },
  "language_info": {
   "codemirror_mode": {
    "name": "ipython",
    "version": 2
   },
   "file_extension": ".py",
   "mimetype": "text/x-python",
   "name": "python",
   "nbconvert_exporter": "python",
   "pygments_lexer": "ipython2",
   "version": "2.7.9"
  }
 },
 "nbformat": 4,
 "nbformat_minor": 2
}
